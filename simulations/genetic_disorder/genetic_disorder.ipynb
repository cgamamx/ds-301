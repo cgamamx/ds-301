{
 "cells": [
  {
   "cell_type": "markdown",
   "metadata": {
    "collapsed": true,
    "pycharm": {
     "name": "#%% md\n"
    }
   },
   "source": [
    "<h1>Genetic Disorder Testing Simulation</h1>\n",
    "(book #1.13) A medical company touts its new test for a certain genetic disorder. The false negative rate is small: if\n",
    "you have the disorder, the probability that the test returns a positive result is 0.999. The false positive rate is also\n",
    "small: if you do not have the disorder, the probability that the test returns a positive result is only 0.005. Assume\n",
    "that 2% of the population has the disorder. If a person chosen uniformly from the population is tested and the result\n",
    "comes back positive, what is the probability that the person has the disorder?"
   ]
  },
  {
   "cell_type": "code",
   "source": [
    "from simulations.genetic_disorder.experiments import GeneticDisorderTestingExperiment\n",
    "\n",
    "# create a new experiment with the parameters specified in problem 1.13\n",
    "_experiment = GeneticDisorderTestingExperiment(\n",
    "    p = 0.02,\n",
    "    sens = 0.999,\n",
    "    spec = 1-0.005,\n",
    "    n = 100000\n",
    ")\n",
    "\n",
    "# and run it\n",
    "_experiment.run_simulation()"
   ],
   "metadata": {
    "collapsed": false,
    "pycharm": {
     "name": "#%%\n"
    }
   },
   "execution_count": 1,
   "outputs": [
    {
     "data": {
      "text/plain": "0.805136567468406"
     },
     "execution_count": 1,
     "metadata": {},
     "output_type": "execute_result"
    }
   ]
  },
  {
   "cell_type": "markdown",
   "source": [
    "To observe how Pr(B|A) changes as a function of Pr(B), we iterate over a loop:"
   ],
   "metadata": {
    "collapsed": false,
    "pycharm": {
     "name": "#%% md\n"
    }
   }
  },
  {
   "cell_type": "code",
   "source": [
    "import matplotlib.pyplot as plt\n",
    "import numpy as np\n",
    "\n",
    "%matplotlib inline\n",
    "plt.style.use('seaborn-colorblind')\n",
    "\n",
    "def plot_prob_range(start=0.01, stop=0.5, steps=100):\n",
    "    y = list()\n",
    "    p_range = np.arange(start, stop, (stop-start)/steps)\n",
    "    for p in p_range:\n",
    "        _experiment.p = p\n",
    "        y.append(_experiment.run_simulation())\n",
    "\n",
    "    fig, ax = plt.subplots()\n",
    "    ax.plot(p_range, y, label='Pr(A|B)')\n",
    "\n",
    "    ax.set(xlabel='Pr(B)', ylabel='Pr(A|B)')\n",
    "    ax.grid()\n",
    "    plt.show()\n",
    "\n",
    "print('Let A = \"Has a genetic Disorder\"')\n",
    "print('Let B = \"Test result is positive\"')\n",
    "plot_prob_range()"
   ],
   "metadata": {
    "collapsed": false,
    "pycharm": {
     "name": "#%%\n"
    }
   },
   "execution_count": 24,
   "outputs": [
    {
     "name": "stdout",
     "output_type": "stream",
     "text": [
      "Let A = \"Has a genetic Disorder\"\n",
      "Let B = \"Test result is positive\"\n"
     ]
    },
    {
     "data": {
      "text/plain": "<Figure size 432x288 with 1 Axes>",
      "image/png": "[encoded data removed]"
     },
     "metadata": {
      "needs_background": "light"
     },
     "output_type": "display_data"
    }
   ]
  },
  {
   "cell_type": "markdown",
   "source": [
    "`TODO: If there is time, I'll look into creating a slider for the visualization.`"
   ],
   "metadata": {
    "collapsed": false,
    "pycharm": {
     "name": "#%% md\n"
    }
   }
  },
  {
   "cell_type": "markdown",
   "source": [
    "Run the next cell to view the source code of `GeneticDisorderTestingExperiment`"
   ],
   "metadata": {
    "collapsed": false
   }
  },
  {
   "cell_type": "code",
   "execution_count": 29,
   "outputs": [],
   "source": [
    "%pycat experiments.py"
   ],
   "metadata": {
    "collapsed": false,
    "pycharm": {
     "name": "#%%\n"
    }
   }
  }
 ],
 "metadata": {
  "kernelspec": {
   "display_name": "Python 3",
   "language": "python",
   "name": "python3"
  },
  "language_info": {
   "codemirror_mode": {
    "name": "ipython",
    "version": 2
   },
   "file_extension": ".py",
   "mimetype": "text/x-python",
   "name": "python",
   "nbconvert_exporter": "python",
   "pygments_lexer": "ipython2",
   "version": "2.7.6"
  }
 },
 "nbformat": 4,
 "nbformat_minor": 0
}